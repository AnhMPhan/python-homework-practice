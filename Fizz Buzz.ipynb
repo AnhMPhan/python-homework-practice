{
 "cells": [
  {
   "cell_type": "code",
   "execution_count": 1,
   "id": "25d77368",
   "metadata": {},
   "outputs": [
    {
     "name": "stdout",
     "output_type": "stream",
     "text": [
      "Nhập vào 2 số cách nhau bởi dấu phẩy: 10, 5\n",
      "['10', ' 5']\n",
      "5 10\n",
      "Buzz\n",
      "Fizz\n",
      "7\n",
      "8\n",
      "Fizz\n",
      "Buzz\n"
     ]
    }
   ],
   "source": [
    "try:\n",
    "    chuoi_nhap = input('Nhập vào 2 số cách nhau bởi dấu phẩy: ')\n",
    "    mang_so = chuoi_nhap.split(',')\n",
    "    print(mang_so)\n",
    "    so_1 = int(mang_so[0].strip()) ##[0] thứ tự mảng số phần tử đầu tiên của list\n",
    "    so_2 = int(mang_so[1].strip())\n",
    "    \n",
    "    if so_2 < so_1:\n",
    "        tmp = so_1\n",
    "        so_1 = so_2\n",
    "        so_2 = tmp\n",
    "        print(so_1, so_2)\n",
    "    for i in range(so_1, so_2 + 1):\n",
    "        if i % 3 == 0 and i % 5 == 0:\n",
    "            print('FizzBuzz')\n",
    "        elif i % 3 == 0:\n",
    "            print('Fizz')\n",
    "        elif i % 5 == 0:\n",
    "            print('Buzz')\n",
    "        else:\n",
    "            print(i)\n",
    "except Exception as ex:\n",
    "    print('Có lỗi', ex)"
   ]
  }
 ],
 "metadata": {
  "kernelspec": {
   "display_name": "Python 3 (ipykernel)",
   "language": "python",
   "name": "python3"
  },
  "language_info": {
   "codemirror_mode": {
    "name": "ipython",
    "version": 3
   },
   "file_extension": ".py",
   "mimetype": "text/x-python",
   "name": "python",
   "nbconvert_exporter": "python",
   "pygments_lexer": "ipython3",
   "version": "3.10.9"
  }
 },
 "nbformat": 4,
 "nbformat_minor": 5
}
